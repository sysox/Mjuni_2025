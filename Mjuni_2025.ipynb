{
 "cells": [
  {
   "cell_type": "markdown",
   "id": "e2408ac7",
   "metadata": {},
   "source": [
    "# Passwords"
   ]
  },
  {
   "cell_type": "code",
   "execution_count": 1,
   "id": "ZitX-nP_TE2F",
   "metadata": {
    "executionInfo": {
     "elapsed": 5,
     "status": "ok",
     "timestamp": 1746160986977,
     "user": {
      "displayName": "Katarína Galanská",
      "userId": "14865664407331728233"
     },
     "user_tz": -120
    },
    "id": "ZitX-nP_TE2F"
   },
   "outputs": [],
   "source": [
    "import itertools\n",
    "import string\n",
    "import time\n",
    "import math\n",
    "import hmac\n",
    "import base64\n",
    "import struct\n",
    "import hashlib\n",
    "from IPython.display import display\n",
    "import pyotp\n",
    "import qrcode"
   ]
  },
  {
   "cell_type": "markdown",
   "id": "224d5416",
   "metadata": {},
   "source": [
    "### Charsets"
   ]
  },
  {
   "cell_type": "code",
   "execution_count": 2,
   "id": "94823562",
   "metadata": {
    "colab": {
     "base_uri": "https://localhost:8080/"
    },
    "executionInfo": {
     "elapsed": 12,
     "status": "ok",
     "timestamp": 1746166109357,
     "user": {
      "displayName": "Katarína Galanská",
      "userId": "14865664407331728233"
     },
     "user_tz": -120
    },
    "id": "94823562",
    "outputId": "c41cfaec-0492-4d32-d299-186401964100",
    "scrolled": true
   },
   "outputs": [
    {
     "data": {
      "text/plain": [
       "['',\n",
       " '0123456789',\n",
       " '!@#$%^&* .,',\n",
       " '0123456789!@#$%^&* .,',\n",
       " 'abcdefghijklmnopqrstuvwxyz',\n",
       " 'ABCDEFGHIJKLMNOPQRSTUVWXYZ',\n",
       " 'abcdefghijklmnopqrstuvwxyz0123456789',\n",
       " 'ABCDEFGHIJKLMNOPQRSTUVWXYZ0123456789',\n",
       " 'abcdefghijklmnopqrstuvwxyz!@#$%^&* .,',\n",
       " 'ABCDEFGHIJKLMNOPQRSTUVWXYZ!@#$%^&* .,',\n",
       " 'abcdefghijklmnopqrstuvwxyz0123456789!@#$%^&* .,',\n",
       " 'ABCDEFGHIJKLMNOPQRSTUVWXYZ0123456789!@#$%^&* .,',\n",
       " 'abcdefghijklmnopqrstuvwxyzABCDEFGHIJKLMNOPQRSTUVWXYZ',\n",
       " 'abcdefghijklmnopqrstuvwxyzABCDEFGHIJKLMNOPQRSTUVWXYZ0123456789',\n",
       " 'abcdefghijklmnopqrstuvwxyzABCDEFGHIJKLMNOPQRSTUVWXYZ!@#$%^&* .,',\n",
       " 'abcdefghijklmnopqrstuvwxyzABCDEFGHIJKLMNOPQRSTUVWXYZ0123456789!@#$%^&* .,']"
      ]
     },
     "execution_count": 2,
     "metadata": {},
     "output_type": "execute_result"
    }
   ],
   "source": [
    "def gen_charsets():\n",
    "    lower = \"abcdefghijklmnopqrstuvwxyz\"\n",
    "    upper = \"ABCDEFGHIJKLMNOPQRSTUVWXYZ\"\n",
    "    special =  \"!@#$%^&* .,\"\n",
    "    digit = \"0123456789\" \n",
    "    basic_charsets = [lower, upper, digit, special]\n",
    "    charsets = [\"\"]\n",
    "    for to_add in basic_charsets:\n",
    "        for i in range(len(charsets)):\n",
    "            charsets.append(charsets[i] + to_add)\n",
    "    charsets = sorted(charsets, key = lambda x:len(x))\n",
    "    return charsets\n",
    "\n",
    "def get_charset(pw):\n",
    "    for cs in gen_charsets():\n",
    "        if set(pw) <= set(cs):\n",
    "            return cs\n",
    "    return None\n",
    "\n",
    "\n",
    "gen_charsets()"
   ]
  },
  {
   "cell_type": "markdown",
   "id": "865a3d1f",
   "metadata": {
    "id": "865a3d1f"
   },
   "source": [
    "### Password strength "
   ]
  },
  {
   "cell_type": "code",
   "execution_count": 5,
   "id": "b2fc203a",
   "metadata": {},
   "outputs": [
    {
     "name": "stdout",
     "output_type": "stream",
     "text": [
      "Number of iterations=60466176\n",
      "Logarithm of iterations=7.781512503836437\n"
     ]
    }
   ],
   "source": [
    "def password_strength(pw):\n",
    "    charset = get_charset(pw)\n",
    "    num_iters =  len(charset)**len(pw)\n",
    "    return num_iters, math.log10(num_iters)\n",
    "\n",
    "password = \"ash12\"\n",
    "iters, iters_log = password_strength(password)\n",
    "print(f\"Number of iterations={iters}\\nLogarithm of iterations={iters_log}\") "
   ]
  },
  {
   "cell_type": "markdown",
   "id": "5VstEBUWKW4H",
   "metadata": {
    "id": "5VstEBUWKW4H"
   },
   "source": [
    "### Brute force attack"
   ]
  },
  {
   "cell_type": "markdown",
   "id": "308fba8c",
   "metadata": {},
   "source": [
    "#### Plain password"
   ]
  },
  {
   "cell_type": "code",
   "execution_count": 6,
   "id": "wHXqlIKPKZ7e",
   "metadata": {
    "executionInfo": {
     "elapsed": 7,
     "status": "ok",
     "timestamp": 1746166174751,
     "user": {
      "displayName": "Katarína Galanská",
      "userId": "14865664407331728233"
     },
     "user_tz": -120
    },
    "id": "wHXqlIKPKZ7e"
   },
   "outputs": [],
   "source": [
    "def brute_force(password, charset):\n",
    "    start_time = time.time()\n",
    "    attempts = 0\n",
    "    if charset == None:\n",
    "        charset = get_charset(password)\n",
    "    for length in range(1, len(password) + 1):\n",
    "        for l in itertools.product(charset, repeat=length):\n",
    "            attempts += 1\n",
    "            password_guess = ''.join(l)\n",
    "            if password_guess == password:\n",
    "                end_time = time.time()\n",
    "                elapsed = end_time - start_time\n",
    "                print(f\"Password cracked: {password_guess}\")\n",
    "                return elapsed, attempts\n",
    "\n",
    "    return None, attempts"
   ]
  },
  {
   "cell_type": "code",
   "execution_count": 7,
   "id": "rtHfFpmgKa85",
   "metadata": {
    "colab": {
     "background_save": true
    },
    "id": "rtHfFpmgKa85"
   },
   "outputs": [
    {
     "name": "stdout",
     "output_type": "stream",
     "text": [
      "(380204032, 8.580016718173995)\n",
      "Password cracked: abcdA\n",
      "⏱ Cracked in 3.03 seconds after 7601179 attempts.\n"
     ]
    }
   ],
   "source": [
    "# Test with a short password\n",
    "password = \"abcdA\"\n",
    "print(password_strength(password))\n",
    "seconds, tries = brute_force(password, charset = None)\n",
    "\n",
    "print(f\"⏱ Cracked in {seconds:.2f} seconds after {tries} attempts.\")\n"
   ]
  },
  {
   "cell_type": "markdown",
   "id": "eb5a96ce",
   "metadata": {},
   "source": [
    "#### Hashed password"
   ]
  },
  {
   "cell_type": "code",
   "execution_count": 9,
   "id": "3980cc17",
   "metadata": {},
   "outputs": [
    {
     "name": "stdout",
     "output_type": "stream",
     "text": [
      "5BAA61E4C9B93F3F0682250B6CF8331B7EE68FD8\n"
     ]
    },
    {
     "data": {
      "text/plain": [
       "'C406539B6E55106CA1917673CD49D13683605B7E'"
      ]
     },
     "execution_count": 9,
     "metadata": {},
     "output_type": "execute_result"
    }
   ],
   "source": [
    "def SHA1(password):\n",
    "    H = hashlib.sha1()\n",
    "    bpw_bytes = password.encode()\n",
    "    H.update(bpw_bytes)\n",
    "    return H.digest().hex().upper()\n",
    "\n",
    "pw_hash = SHA1('password')\n",
    "print(pw_hash)\n",
    "SHA1('passwore')"
   ]
  },
  {
   "cell_type": "code",
   "execution_count": 11,
   "id": "6a551bd8",
   "metadata": {},
   "outputs": [
    {
     "name": "stdout",
     "output_type": "stream",
     "text": [
      "passwords of length=1\n",
      "passwords of length=2\n",
      "passwords of length=3\n",
      "passwords of length=4\n",
      "⏱ Cracked in 84.78 seconds after 27252360 attempts.\n"
     ]
    }
   ],
   "source": [
    "start_time = time.time() \n",
    "charset = 'abcdefghijklmnopqrstuvwxyzABCDEFGHIJKLMNOPQRSTUVWXYZ0123456789!@#$%^&* .'\n",
    "tries = 0\n",
    "for length in range(1, 5):\n",
    "    print(f\"passwords of length={length}\")\n",
    "    for l in itertools.product(charset, repeat=length):\n",
    "        password_guess = ''.join(l)\n",
    "        tries += 1\n",
    "#         print(password_guess)\n",
    "        if pw_hash == SHA1(password_guess):\n",
    "            print(f\"password={password_guess}\")\n",
    "            break\n",
    "seconds = time.time() - start_time\n",
    "print(f\"⏱ Cracked in {seconds:.2f} seconds after {tries} attempts.\")"
   ]
  },
  {
   "cell_type": "markdown",
   "id": "56096d9e",
   "metadata": {},
   "source": [
    "#### Database preprocessing\n",
    "Database format: **hash** of the password , **frequency** in databreaches <br />\n",
    "    `000000005AD76BD555C1D6D771DE417A4B87E4B4, 4` <br />\n",
    "    `00000000A8DAE4228F821FB418F59826079BF368, 3` <br />\n",
    "..."
   ]
  },
  {
   "cell_type": "code",
   "execution_count": null,
   "id": "6c7886f4",
   "metadata": {},
   "outputs": [],
   "source": [
    "# with open('pwnd.csv') as f:\n",
    "#     most_frequent = {}\n",
    "#     for _ in range(400000000):\n",
    "#         line = f.readline().split(',') \n",
    "#         pw_hash, freq = line \n",
    "#         if int(freq) > 10000:\n",
    "#             most_frequent[pw_hash] = freq\n",
    "#     print(len(most_frequent))\n",
    "#     with open('most frequent.csv', 'w') as fw:\n",
    "#         for pw_hash, freq in most_frequent.items():\n",
    "#             fw.write(f\"{pw_hash},{freq}\")\n",
    "        "
   ]
  },
  {
   "cell_type": "code",
   "execution_count": null,
   "id": "c1f46845",
   "metadata": {},
   "outputs": [],
   "source": [
    "# charset = 'abcdefghijklmnopqrstuvwxyz' \n",
    "# with open('most frequent.csv', 'r') as f:\n",
    "#     pw_hashes = {tuple(line.split(',')) for line in f.readlines()}\n",
    "# #     print(pw_hashes)\n",
    "#     for length in range(1, 6):\n",
    "#         print(f\"{length}\")\n",
    "#         for l in itertools.product(charset, repeat=length):\n",
    "#             password_guess = ''.join(l)\n",
    "# #             print(password_guess)\n",
    "#             pw_guess_hash = SHA1(password_guess)\n",
    "#             if password_guess in pw_hashes:\n",
    "#                 print(password_guess, pw_guess_hash)\n",
    "\n"
   ]
  },
  {
   "cell_type": "markdown",
   "id": "39064bf4",
   "metadata": {},
   "source": [
    "### KeePass attack\n"
   ]
  },
  {
   "cell_type": "code",
   "execution_count": 12,
   "id": "35c02cca",
   "metadata": {},
   "outputs": [
    {
     "name": "stdout",
     "output_type": "stream",
     "text": [
      "ccc\n",
      "cca\n",
      "ccb\n",
      "cac\n",
      "caa\n",
      "cab\n",
      "cbc\n",
      "cba\n",
      "cbb\n",
      "acc\n",
      "aca\n",
      "acb\n",
      "aac\n",
      "aaa\n",
      "aaa\n"
     ]
    }
   ],
   "source": [
    "from pykeepass import PyKeePass\n",
    "\n",
    "# https://github.com/scubajorgen/KeepassDecrypt\n",
    "def test_password(database_path, password):\n",
    "    try:\n",
    "        PyKeePass(database_path, password)\n",
    "        return True\n",
    "    except:\n",
    "        return False\n",
    "    \n",
    "kp = PyKeePass('Database.kdbx', password='aaa')\n",
    "\n",
    "for password in itertools.product('cab', repeat=3):\n",
    "    password = ''.join(password)\n",
    "    print(password)\n",
    "    if test_password('Database.kdbx', password) == True:\n",
    "        print(password)\n",
    "        break\n"
   ]
  },
  {
   "cell_type": "markdown",
   "id": "8cd360dd",
   "metadata": {},
   "source": [
    "# HOTP"
   ]
  },
  {
   "cell_type": "markdown",
   "id": "7c1futZaOqiS",
   "metadata": {
    "id": "7c1futZaOqiS"
   },
   "source": [
    "### Secret\n"
   ]
  },
  {
   "cell_type": "code",
   "execution_count": null,
   "id": "z8nRlJRtNJVs",
   "metadata": {
    "id": "z8nRlJRtNJVs"
   },
   "outputs": [
    {
     "name": "stdout",
     "output_type": "stream",
     "text": [
      " Scan this QR code in your Authenticator app (e.g., Google Authenticator):\n"
     ]
    },
    {
     "data": {
      "image/jpeg": "[encoded data removed]",
      "image/png": "[encoded data removed]",
      "text/plain": [
       "<qrcode.image.pil.PilImage at 0x7f7f182720b0>"
      ]
     },
     "metadata": {},
     "output_type": "display_data"
    }
   ],
   "source": [
    "# Generate a unique TOTP secret key for the user\n",
    "secret = pyotp.random_base32()\n",
    "totp = pyotp.TOTP(secret)\n",
    "\n",
    "# Generate a provisioning URI for use with Authenticator apps\n",
    "issuer_name = \"PV080\"\n",
    "user_email = \"student@muni.cz\"\n",
    "uri = totp.provisioning_uri(name=user_email, issuer_name=issuer_name)\n",
    "\n",
    "# Display the QR code for the user to scan\n",
    "print(\" Scan this QR code in your Authenticator app (e.g., Google Authenticator):\")\n",
    "qr_img = qrcode.make(uri)\n",
    "display(qr_img)\n",
    "\n",
    "# Prompt user to enter their 2FA code\n",
    "user_code = input(\" Enter the 6-digit code from your Authenticator app: \")\n",
    "\n",
    "# Verify the code\n",
    "if totp.verify(user_code):\n",
    "    print(\"✅ Success! Your identity has been verified.\")\n",
    "else:\n",
    "    print(\"❌ Invalid code. Please try again.\")"
   ]
  },
  {
   "cell_type": "markdown",
   "id": "e0a305eb",
   "metadata": {},
   "source": [
    "### HMAC\n"
   ]
  },
  {
   "cell_type": "code",
   "execution_count": 4,
   "id": "a0d0ee69",
   "metadata": {},
   "outputs": [
    {
     "name": "stdout",
     "output_type": "stream",
     "text": [
      "684394\n"
     ]
    }
   ],
   "source": [
    "def get_hotp(key, counter, n_digits):\n",
    "    \"\"\"\n",
    "    Computes HOTP value according to RFC 4226 https://www.ietf.org/rfc/rfc4226.txt\n",
    "    @param key: The pre-shared key in a form of base32 string (arbitrary length)\n",
    "    @param counter: The counter used to compute the one-time password\n",
    "    @param n_digits: How many digits should the resulting decimal code have\n",
    "    \"\"\"\n",
    "    # Decodes the secret key from base32 to bytes\n",
    "    key = base64.b32decode(key, casefold=True)\n",
    "\n",
    "    # Encodes the counter into bytes\n",
    "    c = counter.to_bytes(8, byteorder=\"big\", signed=False)\n",
    "\n",
    "    # Computes HMAC(key, counter) with SHA-1 as the underlying func\n",
    "    mac = hmac.new(key, c, \"sha1\").digest()\n",
    "\n",
    "    # Computes 4 most significant bits of mac, written in decimal\n",
    "    i = mac[-1] & 0x0F\n",
    "\n",
    "    # Takes 31 most significant bits out of 4 bytes in MAC that start at offset i\n",
    "    # Taking 31 bits effectively gets rid of the sign bit, while the integer still fits 4 bytes.\n",
    "    # This is desired to remove the ambiguity caused by different implementations on different platforms\n",
    "    truncated = int.from_bytes(\n",
    "        mac[i: i + 4], byteorder=\"big\", signed=False) & 0x7FFFFFFF\n",
    "\n",
    "    # Modulo the desired number of digits\n",
    "    return truncated % (10 ** n_digits)\n",
    "\n",
    "token = get_hotp(secret.lower(), int(time.time()) // 30, n_digits=6)\n",
    "print(str(token).zfill(6))"
   ]
  },
  {
   "cell_type": "code",
   "execution_count": null,
   "id": "4a570180",
   "metadata": {},
   "outputs": [],
   "source": []
  }
 ],
 "metadata": {
  "colab": {
   "name": "",
   "toc_visible": true,
   "version": ""
  },
  "kernelspec": {
   "display_name": "Python 3 (ipykernel)",
   "language": "python",
   "name": "python3"
  },
  "language_info": {
   "codemirror_mode": {
    "name": "ipython",
    "version": 3
   },
   "file_extension": ".py",
   "mimetype": "text/x-python",
   "name": "python",
   "nbconvert_exporter": "python",
   "pygments_lexer": "ipython3",
   "version": "3.10.12"
  }
 },
 "nbformat": 4,
 "nbformat_minor": 5
}
